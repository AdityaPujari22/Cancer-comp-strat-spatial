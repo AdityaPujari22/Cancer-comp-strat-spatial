{
 "cells": [
  {
   "cell_type": "code",
   "execution_count": 10,
   "metadata": {
    "ExecuteTime": {
     "end_time": "2021-07-20T16:03:44.557607Z",
     "start_time": "2021-07-20T16:03:42.869660Z"
    }
   },
   "outputs": [
    {
     "data": {
      "text/html": [
       "<style>.container { width:100% !important; }</style>"
      ],
      "text/plain": [
       "<IPython.core.display.HTML object>"
      ]
     },
     "metadata": {},
     "output_type": "display_data"
    }
   ],
   "source": [
    "import numpy as np\n",
    "import seaborn as sns\n",
    "import pandas as pd\n",
    "import os\n",
    "import sys\n",
    "\n",
    "sns.set_style(style=\"darkgrid\")\n",
    "sns.set_palette(\"bright\")\n",
    "\n",
    "from IPython.core.display import display, HTML\n",
    "display(HTML(\"<style>.container { width:100% !important; }</style>\"))"
   ]
  },
  {
   "cell_type": "markdown",
   "metadata": {},
   "source": [
    "# This is the notebook where the actual program will run. \n",
    "\n",
    "### Save input parameters as 'file-name' in the input folder. Import them here as 'inp', along with solver code (functions solve_eq, enveq and resource dependence f_res). "
   ]
  },
  {
   "cell_type": "code",
   "execution_count": 11,
   "metadata": {
    "ExecuteTime": {
     "end_time": "2021-07-20T16:03:44.605738Z",
     "start_time": "2021-07-20T16:03:44.569609Z"
    }
   },
   "outputs": [],
   "source": [
    "module_path = os.path.abspath(os.path.join('..'))\n",
    "if module_path not in sys.path:\n",
    "    sys.path.append(module_path + \"\\\\input\")\n",
    "    sys.path.append(module_path + \"\\\\codes\")\n",
    "    sys.path.append(module_path + \"\\\\raw-ouput\")\n",
    "    \n",
    "\n",
    "from input import input1 as inp\n",
    "from codes.EnvEq import solve_eq, f_res, enveq"
   ]
  },
  {
   "cell_type": "markdown",
   "metadata": {},
   "source": [
    "### Check relevant input parameters before solving "
   ]
  },
  {
   "cell_type": "code",
   "execution_count": 12,
   "metadata": {
    "ExecuteTime": {
     "end_time": "2021-07-20T16:03:45.139202Z",
     "start_time": "2021-07-20T16:03:44.622207Z"
    }
   },
   "outputs": [
    {
     "name": "stdout",
     "output_type": "stream",
     "text": [
      "5\n"
     ]
    }
   ],
   "source": [
    "print(inp.M)"
   ]
  },
  {
   "cell_type": "code",
   "execution_count": 13,
   "metadata": {
    "ExecuteTime": {
     "end_time": "2021-07-20T16:03:49.232403Z",
     "start_time": "2021-07-20T16:03:45.148632Z"
    }
   },
   "outputs": [],
   "source": [
    "### Solving system\n",
    "\n",
    "data = solve_eq(inp.t_max, inp.dt, inp.y0, inp.p, inp.mu, inp.lam, inp.r, inp.K, inp.delta, inp.rho, inp.K_m, inp.lim, inp.D, inp.M, \"test-run\")"
   ]
  },
  {
   "cell_type": "code",
   "execution_count": 21,
   "metadata": {
    "ExecuteTime": {
     "end_time": "2021-07-20T16:11:02.893938Z",
     "start_time": "2021-07-20T16:10:49.346505Z"
    }
   },
   "outputs": [
    {
     "data": {
      "text/plain": [
       "<seaborn.axisgrid.FacetGrid at 0x22680d90788>"
      ]
     },
     "execution_count": 21,
     "metadata": {},
     "output_type": "execute_result"
    },
    {
     "data": {
      "image/png": "[encoded data removed]",
      "text/plain": [
       "<Figure size 456.875x360 with 1 Axes>"
      ]
     },
     "metadata": {},
     "output_type": "display_data"
    }
   ],
   "source": [
    "sns.relplot(x = 'Time', y = \"Tumour Burden\", hue = \"Compartment\", kind = \"line\", data = data)"
   ]
  }
 ],
 "metadata": {
  "kernelspec": {
   "display_name": "Python 3",
   "language": "python",
   "name": "python3"
  },
  "language_info": {
   "codemirror_mode": {
    "name": "ipython",
    "version": 3
   },
   "file_extension": ".py",
   "mimetype": "text/x-python",
   "name": "python",
   "nbconvert_exporter": "python",
   "pygments_lexer": "ipython3",
   "version": "3.7.4"
  }
 },
 "nbformat": 4,
 "nbformat_minor": 2
}
